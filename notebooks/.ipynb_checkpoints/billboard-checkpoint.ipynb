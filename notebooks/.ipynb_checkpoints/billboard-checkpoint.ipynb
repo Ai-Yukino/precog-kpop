{
 "cells": [
  {
   "cell_type": "markdown",
   "id": "54e79744-5ef1-40e9-b89a-8a7b63fe5b7b",
   "metadata": {},
   "source": [
    "# `Billboard.ipynb`"
   ]
  },
  {
   "cell_type": "code",
   "execution_count": 8,
   "id": "1fb6f58d-a2bd-4019-96dd-99a6cd9f8313",
   "metadata": {},
   "outputs": [],
   "source": [
    "from bs4 import BeautifulSoup, SoupStrainer\n",
    "import pandas as pd\n",
    "import requests\n",
    "from os.path import join\n",
    "from os import makedirs"
   ]
  },
  {
   "cell_type": "code",
   "execution_count": 9,
   "id": "1faccdf8-7f68-4612-bc22-ce07c413b18e",
   "metadata": {},
   "outputs": [],
   "source": [
    "billboard_url = \"https://www.billboard.com/charts/billboard-korea-100/\"\n",
    "\n",
    "with requests.Session() as s:\n",
    "    r = s.get(\"https://www.billboard.com/charts/billboard-korea-100/2020-01-11/\")\n",
    "    path = join(\"..\", \"html\", \"01-11.html\")\n",
    "    makedirs(join(\".\", \"html\"))\n",
    "    with open(path, \"x\") as file:\n",
    "        file.write(r.text)"
   ]
  },
  {
   "cell_type": "code",
   "execution_count": 51,
   "id": "34cd3d98-edc9-4b46-bf3e-714075a8a809",
   "metadata": {},
   "outputs": [],
   "source": [
    "artists = []\n",
    "tracks = []"
   ]
  },
  {
   "cell_type": "code",
   "execution_count": 18,
   "id": "c3ddbb97-355f-4dcd-85ba-c5f0e5457ada",
   "metadata": {},
   "outputs": [],
   "source": [
    "with open(path, \"r\") as file:\n",
    "    soup = BeautifulSoup(markup=file, features=\"lxml\", \n",
    "                        parse_only=SoupStrainer(name=\"div\",\n",
    "                                                attrs={\"class\": \"o-chart-results-list-row-container\"}))"
   ]
  },
  {
   "cell_type": "markdown",
   "id": "a5e95a4d-894e-4234-8a2b-b039d1766275",
   "metadata": {},
   "source": [
    "## Note\n",
    "\n",
    "- ul (box with the artist and track)\n",
    "- First li\n",
    "    - h3 -> arist name\n",
    "    - span -> track name"
   ]
  },
  {
   "cell_type": "code",
   "execution_count": 25,
   "id": "68d9262f-4189-4663-bc34-2bc4803380de",
   "metadata": {},
   "outputs": [],
   "source": [
    "rows = soup(\"ul\")"
   ]
  },
  {
   "cell_type": "code",
   "execution_count": 46,
   "id": "ad317a0d-05ce-40fc-a9df-ea0b5293abb2",
   "metadata": {},
   "outputs": [
    {
     "ename": "NameError",
     "evalue": "name 'artists' is not defined",
     "output_type": "error",
     "traceback": [
      "\u001b[0;31m---------------------------------------------------------------------------\u001b[0m",
      "\u001b[0;31mNameError\u001b[0m                                 Traceback (most recent call last)",
      "Cell \u001b[0;32mIn [46], line 1\u001b[0m\n\u001b[0;32m----> 1\u001b[0m artists\n",
      "\u001b[0;31mNameError\u001b[0m: name 'artists' is not defined"
     ]
    }
   ],
   "source": [
    "artists"
   ]
  },
  {
   "cell_type": "code",
   "execution_count": 52,
   "id": "481a06c8-e4c1-455e-a403-48882bdf3700",
   "metadata": {},
   "outputs": [],
   "source": [
    "for text in rows[1].h3.stripped_strings:\n",
    "    artists.append(text)"
   ]
  },
  {
   "cell_type": "code",
   "execution_count": 53,
   "id": "6cb0edcf-93e7-4dff-b5c5-8cb68cc9373d",
   "metadata": {},
   "outputs": [
    {
     "data": {
      "text/plain": [
       "['Meteor']"
      ]
     },
     "execution_count": 53,
     "metadata": {},
     "output_type": "execute_result"
    }
   ],
   "source": [
    "artists"
   ]
  },
  {
   "cell_type": "code",
   "execution_count": 58,
   "id": "518c261c-4ad4-48b2-afdf-222fa53d2f98",
   "metadata": {},
   "outputs": [],
   "source": [
    "for text in rows[1].span.stripped_strings:\n",
    "    tracks.append(text)"
   ]
  },
  {
   "cell_type": "code",
   "execution_count": 59,
   "id": "aa43f7a3-8773-464b-94ba-7437c607934a",
   "metadata": {},
   "outputs": [
    {
     "data": {
      "text/plain": [
       "['CHANGMO']"
      ]
     },
     "execution_count": 59,
     "metadata": {},
     "output_type": "execute_result"
    }
   ],
   "source": [
    "tracks"
   ]
  }
 ],
 "metadata": {
  "kernelspec": {
   "display_name": "Python 3 (ipykernel)",
   "language": "python",
   "name": "python3"
  },
  "language_info": {
   "codemirror_mode": {
    "name": "ipython",
    "version": 3
   },
   "file_extension": ".py",
   "mimetype": "text/x-python",
   "name": "python",
   "nbconvert_exporter": "python",
   "pygments_lexer": "ipython3",
   "version": "3.10.6"
  }
 },
 "nbformat": 4,
 "nbformat_minor": 5
}
